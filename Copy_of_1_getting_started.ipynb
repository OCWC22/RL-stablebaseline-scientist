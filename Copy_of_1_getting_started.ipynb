{
  "cells": [
    {
      "cell_type": "markdown",
      "metadata": {
        "colab_type": "text",
        "id": "view-in-github"
      },
      "source": [
        "<a href=\"https://colab.research.google.com/github/OCWC22/RL-stablebaseline-scientist/blob/main/Copy_of_1_getting_started.ipynb\" target=\"_parent\"><img src=\"https://colab.research.google.com/assets/colab-badge.svg\" alt=\"Open In Colab\"/></a>"
      ]
    },
    {
      "cell_type": "markdown",
      "metadata": {
        "id": "hyyN-2qyK_T2"
      },
      "source": [
        "# Stable Baselines3 Tutorial - Getting Started\n",
        "\n",
        "Github repo: https://github.com/araffin/rl-tutorial-jnrr19\n",
        "\n",
        "Stable-Baselines3: https://github.com/DLR-RM/stable-baselines3\n",
        "\n",
        "Documentation: https://stable-baselines.readthedocs.io/en/master/\n",
        "\n",
        "RL Baselines3 zoo: https://github.com/DLR-RM/rl-baselines3-zoo\n",
        "\n",
        "\n",
        "[RL Baselines3 Zoo](https://github.com/DLR-RM/rl-baselines3-zoo) is a training framework for Reinforcement Learning (RL), using Stable Baselines3.\n",
        "\n",
        "It provides scripts for training, evaluating agents, tuning hyperparameters, plotting results and recording videos.\n",
        "\n",
        "## Introduction\n",
        "\n",
        "In this notebook, you will learn the basics for using stable baselines3 library: how to create a RL model, train it and evaluate it. Because all algorithms share the same interface, we will see how simple it is to switch from one algorithm to another.\n",
        "\n",
        "\n",
        "## Install Dependencies and Stable Baselines3 Using Pip\n",
        "\n",
        "List of full dependencies can be found in the [README](https://github.com/DLR-RM/stable-baselines3).\n",
        "\n",
        "\n",
        "```\n",
        "pip install stable-baselines3[extra]\n",
        "```"
      ]
    },
    {
      "cell_type": "code",
      "execution_count": 35,
      "metadata": {
        "id": "7Tgosr7VBo-l"
      },
      "outputs": [],
      "source": [
        "# for autoformatting\n",
        "# %load_ext jupyter_black"
      ]
    },
    {
      "cell_type": "code",
      "execution_count": 36,
      "metadata": {
        "id": "gWskDE2c9WoN"
      },
      "outputs": [
        {
          "name": "stdout",
          "output_type": "stream",
          "text": [
            "zsh:1: command not found: apt-get\n",
            "Requirement already satisfied: stable-baselines3[extra]>=2.0.0a4 in ./.venv-sb3/lib/python3.9/site-packages (2.6.0)\n",
            "Requirement already satisfied: moviepy in ./.venv-sb3/lib/python3.9/site-packages (2.1.2)\n",
            "Requirement already satisfied: gymnasium<1.2.0,>=0.29.1 in ./.venv-sb3/lib/python3.9/site-packages (from stable-baselines3[extra]>=2.0.0a4) (1.1.1)\n",
            "Requirement already satisfied: cloudpickle in ./.venv-sb3/lib/python3.9/site-packages (from stable-baselines3[extra]>=2.0.0a4) (3.1.1)\n",
            "Requirement already satisfied: pandas in ./.venv-sb3/lib/python3.9/site-packages (from stable-baselines3[extra]>=2.0.0a4) (2.2.3)\n",
            "Requirement already satisfied: numpy<3.0,>=1.20 in ./.venv-sb3/lib/python3.9/site-packages (from stable-baselines3[extra]>=2.0.0a4) (2.0.2)\n",
            "Requirement already satisfied: torch<3.0,>=2.3 in ./.venv-sb3/lib/python3.9/site-packages (from stable-baselines3[extra]>=2.0.0a4) (2.7.0)\n",
            "Requirement already satisfied: matplotlib in ./.venv-sb3/lib/python3.9/site-packages (from stable-baselines3[extra]>=2.0.0a4) (3.9.4)\n",
            "Requirement already satisfied: rich in ./.venv-sb3/lib/python3.9/site-packages (from stable-baselines3[extra]>=2.0.0a4) (14.0.0)\n",
            "Requirement already satisfied: tensorboard>=2.9.1 in ./.venv-sb3/lib/python3.9/site-packages (from stable-baselines3[extra]>=2.0.0a4) (2.19.0)\n",
            "Requirement already satisfied: ale-py>=0.9.0 in ./.venv-sb3/lib/python3.9/site-packages (from stable-baselines3[extra]>=2.0.0a4) (0.11.0)\n",
            "Requirement already satisfied: psutil in ./.venv-sb3/lib/python3.9/site-packages (from stable-baselines3[extra]>=2.0.0a4) (7.0.0)\n",
            "Requirement already satisfied: tqdm in ./.venv-sb3/lib/python3.9/site-packages (from stable-baselines3[extra]>=2.0.0a4) (4.67.1)\n",
            "Requirement already satisfied: opencv-python in ./.venv-sb3/lib/python3.9/site-packages (from stable-baselines3[extra]>=2.0.0a4) (4.11.0.86)\n",
            "Requirement already satisfied: pygame in ./.venv-sb3/lib/python3.9/site-packages (from stable-baselines3[extra]>=2.0.0a4) (2.6.1)\n",
            "Requirement already satisfied: pillow in ./.venv-sb3/lib/python3.9/site-packages (from stable-baselines3[extra]>=2.0.0a4) (10.4.0)\n",
            "Requirement already satisfied: proglog<=1.0.0 in ./.venv-sb3/lib/python3.9/site-packages (from moviepy) (0.1.11)\n",
            "Requirement already satisfied: python-dotenv>=0.10 in ./.venv-sb3/lib/python3.9/site-packages (from moviepy) (1.1.0)\n",
            "Requirement already satisfied: decorator<6.0,>=4.0.2 in ./.venv-sb3/lib/python3.9/site-packages (from moviepy) (5.2.1)\n",
            "Requirement already satisfied: imageio<3.0,>=2.5 in ./.venv-sb3/lib/python3.9/site-packages (from moviepy) (2.37.0)\n",
            "Requirement already satisfied: imageio_ffmpeg>=0.2.0 in ./.venv-sb3/lib/python3.9/site-packages (from moviepy) (0.6.0)\n",
            "Requirement already satisfied: typing-extensions in ./.venv-sb3/lib/python3.9/site-packages (from ale-py>=0.9.0->stable-baselines3[extra]>=2.0.0a4) (4.13.2)\n",
            "Requirement already satisfied: importlib-metadata>=4.10.0 in ./.venv-sb3/lib/python3.9/site-packages (from ale-py>=0.9.0->stable-baselines3[extra]>=2.0.0a4) (8.7.0)\n",
            "Requirement already satisfied: farama-notifications>=0.0.1 in ./.venv-sb3/lib/python3.9/site-packages (from gymnasium<1.2.0,>=0.29.1->stable-baselines3[extra]>=2.0.0a4) (0.0.4)\n",
            "Requirement already satisfied: zipp>=3.20 in ./.venv-sb3/lib/python3.9/site-packages (from importlib-metadata>=4.10.0->ale-py>=0.9.0->stable-baselines3[extra]>=2.0.0a4) (3.21.0)\n",
            "Requirement already satisfied: markdown>=2.6.8 in ./.venv-sb3/lib/python3.9/site-packages (from tensorboard>=2.9.1->stable-baselines3[extra]>=2.0.0a4) (3.8)\n",
            "Requirement already satisfied: werkzeug>=1.0.1 in ./.venv-sb3/lib/python3.9/site-packages (from tensorboard>=2.9.1->stable-baselines3[extra]>=2.0.0a4) (3.1.3)\n",
            "Requirement already satisfied: packaging in ./.venv-sb3/lib/python3.9/site-packages (from tensorboard>=2.9.1->stable-baselines3[extra]>=2.0.0a4) (25.0)\n",
            "Requirement already satisfied: six>1.9 in ./.venv-sb3/lib/python3.9/site-packages (from tensorboard>=2.9.1->stable-baselines3[extra]>=2.0.0a4) (1.17.0)\n",
            "Requirement already satisfied: protobuf!=4.24.0,>=3.19.6 in ./.venv-sb3/lib/python3.9/site-packages (from tensorboard>=2.9.1->stable-baselines3[extra]>=2.0.0a4) (6.30.2)\n",
            "Requirement already satisfied: grpcio>=1.48.2 in ./.venv-sb3/lib/python3.9/site-packages (from tensorboard>=2.9.1->stable-baselines3[extra]>=2.0.0a4) (1.71.0)\n",
            "Requirement already satisfied: absl-py>=0.4 in ./.venv-sb3/lib/python3.9/site-packages (from tensorboard>=2.9.1->stable-baselines3[extra]>=2.0.0a4) (2.2.2)\n",
            "Requirement already satisfied: tensorboard-data-server<0.8.0,>=0.7.0 in ./.venv-sb3/lib/python3.9/site-packages (from tensorboard>=2.9.1->stable-baselines3[extra]>=2.0.0a4) (0.7.2)\n",
            "Requirement already satisfied: setuptools>=41.0.0 in ./.venv-sb3/lib/python3.9/site-packages (from tensorboard>=2.9.1->stable-baselines3[extra]>=2.0.0a4) (58.0.4)\n",
            "Requirement already satisfied: filelock in ./.venv-sb3/lib/python3.9/site-packages (from torch<3.0,>=2.3->stable-baselines3[extra]>=2.0.0a4) (3.18.0)\n",
            "Requirement already satisfied: networkx in ./.venv-sb3/lib/python3.9/site-packages (from torch<3.0,>=2.3->stable-baselines3[extra]>=2.0.0a4) (3.2.1)\n",
            "Requirement already satisfied: jinja2 in ./.venv-sb3/lib/python3.9/site-packages (from torch<3.0,>=2.3->stable-baselines3[extra]>=2.0.0a4) (3.1.6)\n",
            "Requirement already satisfied: fsspec in ./.venv-sb3/lib/python3.9/site-packages (from torch<3.0,>=2.3->stable-baselines3[extra]>=2.0.0a4) (2025.3.2)\n",
            "Requirement already satisfied: sympy>=1.13.3 in ./.venv-sb3/lib/python3.9/site-packages (from torch<3.0,>=2.3->stable-baselines3[extra]>=2.0.0a4) (1.14.0)\n",
            "Requirement already satisfied: mpmath<1.4,>=1.1.0 in ./.venv-sb3/lib/python3.9/site-packages (from sympy>=1.13.3->torch<3.0,>=2.3->stable-baselines3[extra]>=2.0.0a4) (1.3.0)\n",
            "Requirement already satisfied: MarkupSafe>=2.1.1 in ./.venv-sb3/lib/python3.9/site-packages (from werkzeug>=1.0.1->tensorboard>=2.9.1->stable-baselines3[extra]>=2.0.0a4) (3.0.2)\n",
            "Requirement already satisfied: python-dateutil>=2.7 in ./.venv-sb3/lib/python3.9/site-packages (from matplotlib->stable-baselines3[extra]>=2.0.0a4) (2.9.0.post0)\n",
            "Requirement already satisfied: pyparsing>=2.3.1 in ./.venv-sb3/lib/python3.9/site-packages (from matplotlib->stable-baselines3[extra]>=2.0.0a4) (3.2.3)\n",
            "Requirement already satisfied: contourpy>=1.0.1 in ./.venv-sb3/lib/python3.9/site-packages (from matplotlib->stable-baselines3[extra]>=2.0.0a4) (1.3.0)\n",
            "Requirement already satisfied: fonttools>=4.22.0 in ./.venv-sb3/lib/python3.9/site-packages (from matplotlib->stable-baselines3[extra]>=2.0.0a4) (4.57.0)\n",
            "Requirement already satisfied: cycler>=0.10 in ./.venv-sb3/lib/python3.9/site-packages (from matplotlib->stable-baselines3[extra]>=2.0.0a4) (0.12.1)\n",
            "Requirement already satisfied: kiwisolver>=1.3.1 in ./.venv-sb3/lib/python3.9/site-packages (from matplotlib->stable-baselines3[extra]>=2.0.0a4) (1.4.7)\n",
            "Requirement already satisfied: importlib-resources>=3.2.0 in ./.venv-sb3/lib/python3.9/site-packages (from matplotlib->stable-baselines3[extra]>=2.0.0a4) (6.5.2)\n",
            "Requirement already satisfied: tzdata>=2022.7 in ./.venv-sb3/lib/python3.9/site-packages (from pandas->stable-baselines3[extra]>=2.0.0a4) (2025.2)\n",
            "Requirement already satisfied: pytz>=2020.1 in ./.venv-sb3/lib/python3.9/site-packages (from pandas->stable-baselines3[extra]>=2.0.0a4) (2025.2)\n",
            "Requirement already satisfied: pygments<3.0.0,>=2.13.0 in ./.venv-sb3/lib/python3.9/site-packages (from rich->stable-baselines3[extra]>=2.0.0a4) (2.19.1)\n",
            "Requirement already satisfied: markdown-it-py>=2.2.0 in ./.venv-sb3/lib/python3.9/site-packages (from rich->stable-baselines3[extra]>=2.0.0a4) (3.0.0)\n",
            "Requirement already satisfied: mdurl~=0.1 in ./.venv-sb3/lib/python3.9/site-packages (from markdown-it-py>=2.2.0->rich->stable-baselines3[extra]>=2.0.0a4) (0.1.2)\n",
            "\u001b[33mWARNING: You are using pip version 21.2.4; however, version 25.1.1 is available.\n",
            "You should consider upgrading via the '/Users/chen/Projects/RL-stablebaseline-scientist/.venv-sb3/bin/python3 -m pip install --upgrade pip' command.\u001b[0m\n"
          ]
        }
      ],
      "source": [
        "!apt-get update && apt-get install ffmpeg freeglut3-dev xvfb  # For visualization\n",
        "!pip install \"stable-baselines3[extra]>=2.0.0a4\" moviepy"
      ]
    },
    {
      "cell_type": "code",
      "execution_count": 37,
      "metadata": {
        "id": "U29X1-B-AIKE"
      },
      "outputs": [
        {
          "name": "stdout",
          "output_type": "stream",
          "text": [
            "stable_baselines3.__version__='2.6.0'\n"
          ]
        }
      ],
      "source": [
        "import stable_baselines3\n",
        "\n",
        "print(f\"{stable_baselines3.__version__=}\")"
      ]
    },
    {
      "cell_type": "markdown",
      "metadata": {
        "id": "FtY8FhliLsGm"
      },
      "source": [
        "## Imports"
      ]
    },
    {
      "cell_type": "markdown",
      "metadata": {
        "id": "gcX8hEcaUpR0"
      },
      "source": [
        "Stable-Baselines works on environments that follow the [gym interface](https://stable-baselines.readthedocs.io/en/master/guide/custom_env.html).\n",
        "You can find a list of available environment [here](https://gym.openai.com/envs/#classic_control).\n",
        "\n",
        "It is also recommended to check the [source code](https://github.com/openai/gym) to learn more about the observation and action space of each env, as gym does not have a proper documentation.\n",
        "Not all algorithms can work with all action spaces, you can find more in this [recap table](https://stable-baselines.readthedocs.io/en/master/guide/algos.html)"
      ]
    },
    {
      "cell_type": "code",
      "execution_count": 38,
      "metadata": {
        "id": "BIedd7Pz9sOs"
      },
      "outputs": [
        {
          "name": "stdout",
          "output_type": "stream",
          "text": [
            "gym.__version__='1.1.1'\n"
          ]
        }
      ],
      "source": [
        "import gymnasium as gym\n",
        "import numpy as np\n",
        "\n",
        "print(f\"{gym.__version__=}\")"
      ]
    },
    {
      "cell_type": "markdown",
      "metadata": {
        "id": "Ae32CtgzTG3R"
      },
      "source": [
        "The first thing you need to import is the RL model, check the documentation to know what you can use on which problem"
      ]
    },
    {
      "cell_type": "code",
      "execution_count": 39,
      "metadata": {
        "id": "R7tKaBFrTR0a"
      },
      "outputs": [],
      "source": [
        "from stable_baselines3 import PPO, A2C, DQN"
      ]
    },
    {
      "cell_type": "markdown",
      "metadata": {
        "id": "-0_8OQbOTTNT"
      },
      "source": [
        "The next thing you need to import is the policy class that will be used to create the networks (for the policy/value functions).\n",
        "This step is optional as you can directly use strings in the constructor:\n",
        "\n",
        "```PPO('MlpPolicy', env)``` instead of ```PPO(MlpPolicy, env)```\n",
        "\n",
        "Note that some algorithms like `SAC` have their own `MlpPolicy`, that's why using string for the policy is the recommened option."
      ]
    },
    {
      "cell_type": "code",
      "execution_count": 40,
      "metadata": {
        "id": "ROUJr675TT01"
      },
      "outputs": [],
      "source": [
        "from stable_baselines3.ppo import MlpPolicy"
      ]
    },
    {
      "cell_type": "markdown",
      "metadata": {
        "id": "RapkYvTXL7Cd"
      },
      "source": [
        "## Create the Gym env and instantiate the agent\n",
        "\n",
        "For this example, we will use CartPole environment, a classic control problem.\n",
        "\n",
        "\"A pole is attached by an un-actuated joint to a cart, which moves along a frictionless track. The system is controlled by applying a force of +1 or -1 to the cart. The pendulum starts upright, and the goal is to prevent it from falling over. A reward of +1 is provided for every timestep that the pole remains upright. \"\n",
        "\n",
        "Cartpole environment: [https://gymnasium.farama.org/environments/classic_control/cart_pole/](https://gymnasium.farama.org/environments/classic_control/cart_pole/)\n",
        "\n",
        "![Cartpole](https://cdn-images-1.medium.com/max/1143/1*h4WTQNVIsvMXJTCpXm_TAw.gif)\n",
        "\n",
        "Note: vectorized environments allow to easily multiprocess training. In this example, we are using only one process, hence the DummyVecEnv.\n",
        "\n",
        "We chose the MlpPolicy because input of CartPole is a feature vector, not images.\n",
        "\n",
        "The type of action to use (discrete/continuous) will be automatically deduced from the environment action space\n",
        "\n",
        "\n",
        "Here we are using the [Proximal Policy Optimization](https://stable-baselines.readthedocs.io/en/master/modules/ppo2.html) algorithm, which is an Actor-Critic method: it uses a value function to improve the policy gradient descent (by reducing the variance).\n",
        "\n",
        "It combines ideas from [A2C](https://stable-baselines.readthedocs.io/en/master/modules/a2c.html) (having multiple workers and using an entropy bonus for exploration) and [TRPO](https://stable-baselines.readthedocs.io/en/master/modules/trpo.html) (it uses a trust region to improve stability and avoid catastrophic drops in performance).\n",
        "\n",
        "PPO is an on-policy algorithm, which means that the trajectories used to update the networks must be collected using the latest policy.\n",
        "It is usually less sample efficient than off-policy alorithms like [DQN](https://stable-baselines.readthedocs.io/en/master/modules/dqn.html), [SAC](https://stable-baselines.readthedocs.io/en/master/modules/sac.html) or [TD3](https://stable-baselines.readthedocs.io/en/master/modules/td3.html), but is much faster regarding wall-clock time.\n"
      ]
    },
    {
      "cell_type": "code",
      "execution_count": null,
      "metadata": {
        "id": "pUWGZp3i9wyf"
      },
      "outputs": [],
      "source": [
        "# Option 2: Import the correct policy class\n",
        "from stable_baselines3 import A2C\n",
        "from stable_baselines3.a2c.policies import MlpPolicy  # Import the A2C-specific policy\n",
        "\n",
        "env = gym.make(\"CartPole-v1\", render_mode=\"rgb_array\")\n",
        "model = A2C(MlpPolicy, env, verbose=0)"
      ]
    },
    {
      "cell_type": "markdown",
      "metadata": {
        "id": "4efFdrQ7MBvl"
      },
      "source": [
        "We create a helper function to evaluate the agent:"
      ]
    },
    {
      "cell_type": "code",
      "execution_count": 42,
      "metadata": {
        "id": "63M8mSKR-6Zt"
      },
      "outputs": [],
      "source": [
        "def evaluate(model, num_episodes=100, deterministic=True):\n",
        "    \"\"\"\n",
        "    Evaluate a RL agent\n",
        "    :param model: (BaseRLModel object) the RL Agent\n",
        "    :param num_episodes: (int) number of episodes to evaluate it\n",
        "    :return: (float) Mean reward for the last num_episodes\n",
        "    \"\"\"\n",
        "    # This function will only work for a single Environment\n",
        "    vec_env = model.get_env()\n",
        "    all_episode_rewards = []\n",
        "    for i in range(num_episodes):\n",
        "        episode_rewards = []\n",
        "        done = False\n",
        "        obs = vec_env.reset()\n",
        "        while not done:\n",
        "            # _states are only useful when using LSTM policies\n",
        "            action, _states = model.predict(obs, deterministic=deterministic)\n",
        "            # here, action, rewards and dones are arrays\n",
        "            # because we are using vectorized env\n",
        "            # also note that the step only returns a 4-tuple, as the env that is returned\n",
        "            # by model.get_env() is an sb3 vecenv that wraps the >v0.26 API\n",
        "            obs, reward, done, info = vec_env.step(action)\n",
        "            episode_rewards.append(reward)\n",
        "\n",
        "        all_episode_rewards.append(sum(episode_rewards))\n",
        "\n",
        "    mean_episode_reward = np.mean(all_episode_rewards)\n",
        "    print(\"Mean reward:\", mean_episode_reward, \"Num episodes:\", num_episodes)\n",
        "\n",
        "    return mean_episode_reward"
      ]
    },
    {
      "cell_type": "markdown",
      "metadata": {
        "id": "6hkyafs--gJz"
      },
      "source": [
        "In fact, Stable-Baselines3 already provides you with that helper:"
      ]
    },
    {
      "cell_type": "code",
      "execution_count": 43,
      "metadata": {
        "id": "s6ZNldIR-fce"
      },
      "outputs": [],
      "source": [
        "from stable_baselines3.common.evaluation import evaluate_policy"
      ]
    },
    {
      "cell_type": "markdown",
      "metadata": {
        "id": "zjEVOIY8NVeK"
      },
      "source": [
        "Let's evaluate the un-trained agent, this should be a random agent."
      ]
    },
    {
      "cell_type": "code",
      "execution_count": 44,
      "metadata": {
        "id": "xDHLMA6NFk95"
      },
      "outputs": [
        {
          "name": "stdout",
          "output_type": "stream",
          "text": [
            "mean_reward:9.36 +/- 0.82\n"
          ]
        },
        {
          "name": "stderr",
          "output_type": "stream",
          "text": [
            "/Users/chen/Projects/RL-stablebaseline-scientist/.venv-sb3/lib/python3.9/site-packages/stable_baselines3/common/evaluation.py:67: UserWarning: Evaluation environment is not wrapped with a ``Monitor`` wrapper. This may result in reporting modified episode lengths and rewards, if other wrappers happen to modify these. Consider wrapping environment first with ``Monitor`` wrapper.\n",
            "  warnings.warn(\n"
          ]
        }
      ],
      "source": [
        "# Use a separate environement for evaluation\n",
        "eval_env = gym.make(\"CartPole-v1\", render_mode=\"rgb_array\")\n",
        "\n",
        "# Random Agent, before training\n",
        "mean_reward, std_reward = evaluate_policy(model, eval_env, n_eval_episodes=100)\n",
        "\n",
        "print(f\"mean_reward:{mean_reward:.2f} +/- {std_reward:.2f}\")"
      ]
    },
    {
      "cell_type": "markdown",
      "metadata": {
        "id": "r5UoXTZPNdFE"
      },
      "source": [
        "## Train the agent and evaluate it"
      ]
    },
    {
      "cell_type": "code",
      "execution_count": 45,
      "metadata": {
        "id": "e4cfSXIB-pTF"
      },
      "outputs": [
        {
          "data": {
            "text/plain": [
              "<stable_baselines3.dqn.dqn.DQN at 0x17e242040>"
            ]
          },
          "execution_count": 45,
          "metadata": {},
          "output_type": "execute_result"
        }
      ],
      "source": [
        "# Train the agent for 10000 steps\n",
        "model.learn(total_timesteps=10_000)"
      ]
    },
    {
      "cell_type": "code",
      "execution_count": 46,
      "metadata": {
        "id": "ygl_gVmV_QP7"
      },
      "outputs": [
        {
          "name": "stdout",
          "output_type": "stream",
          "text": [
            "mean_reward:21.72 +/- 3.70\n"
          ]
        }
      ],
      "source": [
        "# Evaluate the trained agent\n",
        "mean_reward, std_reward = evaluate_policy(model, eval_env, n_eval_episodes=100)\n",
        "\n",
        "print(f\"mean_reward:{mean_reward:.2f} +/- {std_reward:.2f}\")"
      ]
    },
    {
      "cell_type": "markdown",
      "metadata": {
        "id": "A00W6yY3NkHG"
      },
      "source": [
        "Apparently the training went well, the mean reward increased a lot !"
      ]
    },
    {
      "cell_type": "markdown",
      "metadata": {
        "id": "xVm9QPNVwKXN"
      },
      "source": [
        "### Prepare video recording"
      ]
    },
    {
      "cell_type": "code",
      "execution_count": 47,
      "metadata": {
        "id": "MPyfQxD5z26J"
      },
      "outputs": [
        {
          "name": "stderr",
          "output_type": "stream",
          "text": [
            "sh: Xvfb: command not found\n"
          ]
        }
      ],
      "source": [
        "# Set up fake display; otherwise rendering will fail\n",
        "import os\n",
        "os.system(\"Xvfb :1 -screen 0 1024x768x24 &\")\n",
        "os.environ['DISPLAY'] = ':1'"
      ]
    },
    {
      "cell_type": "code",
      "execution_count": 48,
      "metadata": {
        "id": "SLzXxO8VMD6N"
      },
      "outputs": [],
      "source": [
        "import base64\n",
        "from pathlib import Path\n",
        "\n",
        "from IPython import display as ipythondisplay\n",
        "\n",
        "\n",
        "def show_videos(video_path=\"\", prefix=\"\"):\n",
        "    \"\"\"\n",
        "    Taken from https://github.com/eleurent/highway-env\n",
        "\n",
        "    :param video_path: (str) Path to the folder containing videos\n",
        "    :param prefix: (str) Filter the video, showing only the only starting with this prefix\n",
        "    \"\"\"\n",
        "    html = []\n",
        "    for mp4 in Path(video_path).glob(\"{}*.mp4\".format(prefix)):\n",
        "        video_b64 = base64.b64encode(mp4.read_bytes())\n",
        "        html.append(\n",
        "            \"\"\"<video alt=\"{}\" autoplay\n",
        "                    loop controls style=\"height: 400px;\">\n",
        "                    <source src=\"data:video/mp4;base64,{}\" type=\"video/mp4\" />\n",
        "                </video>\"\"\".format(\n",
        "                mp4, video_b64.decode(\"ascii\")\n",
        "            )\n",
        "        )\n",
        "    ipythondisplay.display(ipythondisplay.HTML(data=\"<br>\".join(html)))"
      ]
    },
    {
      "cell_type": "markdown",
      "metadata": {
        "id": "LTRNUfulOGaF"
      },
      "source": [
        "We will record a video using the [VecVideoRecorder](https://stable-baselines.readthedocs.io/en/master/guide/vec_envs.html#vecvideorecorder) wrapper, you will learn about those wrapper in the next notebook."
      ]
    },
    {
      "cell_type": "code",
      "execution_count": 49,
      "metadata": {
        "id": "Trag9dQpOIhx"
      },
      "outputs": [],
      "source": [
        "from stable_baselines3.common.vec_env import VecVideoRecorder, DummyVecEnv\n",
        "\n",
        "\n",
        "def record_video(env_id, model, video_length=500, prefix=\"\", video_folder=\"videos/\"):\n",
        "    \"\"\"\n",
        "    :param env_id: (str)\n",
        "    :param model: (RL model)\n",
        "    :param video_length: (int)\n",
        "    :param prefix: (str)\n",
        "    :param video_folder: (str)\n",
        "    \"\"\"\n",
        "    eval_env = DummyVecEnv([lambda: gym.make(\"CartPole-v1\", render_mode=\"rgb_array\")])\n",
        "    # Start the video at step=0 and record 500 steps\n",
        "    eval_env = VecVideoRecorder(\n",
        "        eval_env,\n",
        "        video_folder=video_folder,\n",
        "        record_video_trigger=lambda step: step == 0,\n",
        "        video_length=video_length,\n",
        "        name_prefix=prefix,\n",
        "    )\n",
        "\n",
        "    obs = eval_env.reset()\n",
        "    for _ in range(video_length):\n",
        "        action, _ = model.predict(obs)\n",
        "        obs, _, _, _ = eval_env.step(action)\n",
        "\n",
        "    # Close the video recorder\n",
        "    eval_env.close()"
      ]
    },
    {
      "cell_type": "markdown",
      "metadata": {
        "id": "KOObbeu5MMlR"
      },
      "source": [
        "### Visualize trained agent\n",
        "\n"
      ]
    },
    {
      "cell_type": "code",
      "execution_count": null,
      "metadata": {
        "id": "iATu7AiyMQW2"
      },
      "outputs": [
        {
          "name": "stdout",
          "output_type": "stream",
          "text": [
            "Saving video to /Users/chen/Projects/RL-stablebaseline-scientist/videos/dqn-cartpole-step-0-to-step-500.mp4\n",
            "MoviePy - Building video /Users/chen/Projects/RL-stablebaseline-scientist/videos/dqn-cartpole-step-0-to-step-500.mp4.\n",
            "MoviePy - Writing video /Users/chen/Projects/RL-stablebaseline-scientist/videos/dqn-cartpole-step-0-to-step-500.mp4\n",
            "\n"
          ]
        },
        {
          "name": "stderr",
          "output_type": "stream",
          "text": [
            "                                                                          \r"
          ]
        },
        {
          "name": "stdout",
          "output_type": "stream",
          "text": [
            "MoviePy - Done !\n",
            "MoviePy - video ready /Users/chen/Projects/RL-stablebaseline-scientist/videos/dqn-cartpole-step-0-to-step-500.mp4\n"
          ]
        }
      ],
      "source": [
        "record_video(\"CartPole-v1\", model, video_length=500, prefix=\"a2c-cartpole\")"
      ]
    },
    {
      "cell_type": "code",
      "execution_count": 51,
      "metadata": {
        "id": "-n4i-fW3NojZ"
      },
      "outputs": [
        {
          "data": {
            "text/html": [
              "<video alt=\"videos/ppo-cartpole-step-0-to-step-500.mp4\" autoplay\n",
              "                    loop controls style=\"height: 400px;\">\n",
              "                    <source src=\"data:video/mp4;base64,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\" type=\"video/mp4\" />\n",
              "                </video>"
            ],
            "text/plain": [
              "<IPython.core.display.HTML object>"
            ]
          },
          "metadata": {},
          "output_type": "display_data"
        }
      ],
      "source": [
        "show_videos(\"videos\", prefix=\"ppo\")"
      ]
    },
    {
      "cell_type": "markdown",
      "metadata": {
        "id": "9Y8zg4V566qD"
      },
      "source": [
        "## Bonus: Train a RL Model in One Line\n",
        "\n",
        "The policy class to use will be inferred and the environment will be automatically created. This works because both are [registered](https://stable-baselines.readthedocs.io/en/master/guide/quickstart.html)."
      ]
    },
    {
      "cell_type": "code",
      "execution_count": null,
      "metadata": {
        "id": "iaOPfOrwWEP4"
      },
      "outputs": [
        {
          "name": "stdout",
          "output_type": "stream",
          "text": [
            "Using cpu device\n",
            "Creating environment from the given name 'CartPole-v1'\n",
            "Wrapping the env with a `Monitor` wrapper\n",
            "Wrapping the env in a DummyVecEnv.\n",
            "----------------------------------\n",
            "| rollout/            |          |\n",
            "|    ep_len_mean      | 16       |\n",
            "|    ep_rew_mean      | 16       |\n",
            "|    exploration_rate | 0.392    |\n",
            "| time/               |          |\n",
            "|    episodes         | 4        |\n",
            "|    fps              | 18338    |\n",
            "|    time_elapsed     | 0        |\n",
            "|    total_timesteps  | 64       |\n",
            "----------------------------------\n",
            "----------------------------------\n",
            "| rollout/            |          |\n",
            "|    ep_len_mean      | 16.4     |\n",
            "|    ep_rew_mean      | 16.4     |\n",
            "|    exploration_rate | 0.05     |\n",
            "| time/               |          |\n",
            "|    episodes         | 8        |\n",
            "|    fps              | 7399     |\n",
            "|    time_elapsed     | 0        |\n",
            "|    total_timesteps  | 131      |\n",
            "| train/              |          |\n",
            "|    learning_rate    | 0.0001   |\n",
            "|    loss             | 0.543    |\n",
            "|    n_updates        | 7        |\n",
            "----------------------------------\n",
            "----------------------------------\n",
            "| rollout/            |          |\n",
            "|    ep_len_mean      | 14.1     |\n",
            "|    ep_rew_mean      | 14.1     |\n",
            "|    exploration_rate | 0.05     |\n",
            "| time/               |          |\n",
            "|    episodes         | 12       |\n",
            "|    fps              | 5551     |\n",
            "|    time_elapsed     | 0        |\n",
            "|    total_timesteps  | 169      |\n",
            "| train/              |          |\n",
            "|    learning_rate    | 0.0001   |\n",
            "|    loss             | 0.554    |\n",
            "|    n_updates        | 17       |\n",
            "----------------------------------\n",
            "----------------------------------\n",
            "| rollout/            |          |\n",
            "|    ep_len_mean      | 13.1     |\n",
            "|    ep_rew_mean      | 13.1     |\n",
            "|    exploration_rate | 0.05     |\n",
            "| time/               |          |\n",
            "|    episodes         | 16       |\n",
            "|    fps              | 4902     |\n",
            "|    time_elapsed     | 0        |\n",
            "|    total_timesteps  | 209      |\n",
            "| train/              |          |\n",
            "|    learning_rate    | 0.0001   |\n",
            "|    loss             | 0.48     |\n",
            "|    n_updates        | 27       |\n",
            "----------------------------------\n",
            "----------------------------------\n",
            "| rollout/            |          |\n",
            "|    ep_len_mean      | 12.5     |\n",
            "|    ep_rew_mean      | 12.5     |\n",
            "|    exploration_rate | 0.05     |\n",
            "| time/               |          |\n",
            "|    episodes         | 20       |\n",
            "|    fps              | 4628     |\n",
            "|    time_elapsed     | 0        |\n",
            "|    total_timesteps  | 250      |\n",
            "| train/              |          |\n",
            "|    learning_rate    | 0.0001   |\n",
            "|    loss             | 0.462    |\n",
            "|    n_updates        | 37       |\n",
            "----------------------------------\n",
            "----------------------------------\n",
            "| rollout/            |          |\n",
            "|    ep_len_mean      | 12       |\n",
            "|    ep_rew_mean      | 12       |\n",
            "|    exploration_rate | 0.05     |\n",
            "| time/               |          |\n",
            "|    episodes         | 24       |\n",
            "|    fps              | 4408     |\n",
            "|    time_elapsed     | 0        |\n",
            "|    total_timesteps  | 289      |\n",
            "| train/              |          |\n",
            "|    learning_rate    | 0.0001   |\n",
            "|    loss             | 0.453    |\n",
            "|    n_updates        | 47       |\n",
            "----------------------------------\n",
            "----------------------------------\n",
            "| rollout/            |          |\n",
            "|    ep_len_mean      | 11.7     |\n",
            "|    ep_rew_mean      | 11.7     |\n",
            "|    exploration_rate | 0.05     |\n",
            "| time/               |          |\n",
            "|    episodes         | 28       |\n",
            "|    fps              | 4264     |\n",
            "|    time_elapsed     | 0        |\n",
            "|    total_timesteps  | 327      |\n",
            "| train/              |          |\n",
            "|    learning_rate    | 0.0001   |\n",
            "|    loss             | 0.402    |\n",
            "|    n_updates        | 56       |\n",
            "----------------------------------\n",
            "----------------------------------\n",
            "| rollout/            |          |\n",
            "|    ep_len_mean      | 11.4     |\n",
            "|    ep_rew_mean      | 11.4     |\n",
            "|    exploration_rate | 0.05     |\n",
            "| time/               |          |\n",
            "|    episodes         | 32       |\n",
            "|    fps              | 4139     |\n",
            "|    time_elapsed     | 0        |\n",
            "|    total_timesteps  | 365      |\n",
            "| train/              |          |\n",
            "|    learning_rate    | 0.0001   |\n",
            "|    loss             | 0.377    |\n",
            "|    n_updates        | 66       |\n",
            "----------------------------------\n",
            "----------------------------------\n",
            "| rollout/            |          |\n",
            "|    ep_len_mean      | 11.2     |\n",
            "|    ep_rew_mean      | 11.2     |\n",
            "|    exploration_rate | 0.05     |\n",
            "| time/               |          |\n",
            "|    episodes         | 36       |\n",
            "|    fps              | 4083     |\n",
            "|    time_elapsed     | 0        |\n",
            "|    total_timesteps  | 402      |\n",
            "| train/              |          |\n",
            "|    learning_rate    | 0.0001   |\n",
            "|    loss             | 0.356    |\n",
            "|    n_updates        | 75       |\n",
            "----------------------------------\n",
            "----------------------------------\n",
            "| rollout/            |          |\n",
            "|    ep_len_mean      | 10.9     |\n",
            "|    ep_rew_mean      | 10.9     |\n",
            "|    exploration_rate | 0.05     |\n",
            "| time/               |          |\n",
            "|    episodes         | 40       |\n",
            "|    fps              | 4012     |\n",
            "|    time_elapsed     | 0        |\n",
            "|    total_timesteps  | 438      |\n",
            "| train/              |          |\n",
            "|    learning_rate    | 0.0001   |\n",
            "|    loss             | 0.336    |\n",
            "|    n_updates        | 84       |\n",
            "----------------------------------\n",
            "----------------------------------\n",
            "| rollout/            |          |\n",
            "|    ep_len_mean      | 10.8     |\n",
            "|    ep_rew_mean      | 10.8     |\n",
            "|    exploration_rate | 0.05     |\n",
            "| time/               |          |\n",
            "|    episodes         | 44       |\n",
            "|    fps              | 3976     |\n",
            "|    time_elapsed     | 0        |\n",
            "|    total_timesteps  | 475      |\n",
            "| train/              |          |\n",
            "|    learning_rate    | 0.0001   |\n",
            "|    loss             | 0.292    |\n",
            "|    n_updates        | 93       |\n",
            "----------------------------------\n",
            "----------------------------------\n",
            "| rollout/            |          |\n",
            "|    ep_len_mean      | 10.8     |\n",
            "|    ep_rew_mean      | 10.8     |\n",
            "|    exploration_rate | 0.05     |\n",
            "| time/               |          |\n",
            "|    episodes         | 48       |\n",
            "|    fps              | 3930     |\n",
            "|    time_elapsed     | 0        |\n",
            "|    total_timesteps  | 518      |\n",
            "| train/              |          |\n",
            "|    learning_rate    | 0.0001   |\n",
            "|    loss             | 0.249    |\n",
            "|    n_updates        | 104      |\n",
            "----------------------------------\n",
            "----------------------------------\n",
            "| rollout/            |          |\n",
            "|    ep_len_mean      | 10.7     |\n",
            "|    ep_rew_mean      | 10.7     |\n",
            "|    exploration_rate | 0.05     |\n",
            "| time/               |          |\n",
            "|    episodes         | 52       |\n",
            "|    fps              | 3882     |\n",
            "|    time_elapsed     | 0        |\n",
            "|    total_timesteps  | 555      |\n",
            "| train/              |          |\n",
            "|    learning_rate    | 0.0001   |\n",
            "|    loss             | 0.265    |\n",
            "|    n_updates        | 113      |\n",
            "----------------------------------\n",
            "----------------------------------\n",
            "| rollout/            |          |\n",
            "|    ep_len_mean      | 10.6     |\n",
            "|    ep_rew_mean      | 10.6     |\n",
            "|    exploration_rate | 0.05     |\n",
            "| time/               |          |\n",
            "|    episodes         | 56       |\n",
            "|    fps              | 3847     |\n",
            "|    time_elapsed     | 0        |\n",
            "|    total_timesteps  | 594      |\n",
            "| train/              |          |\n",
            "|    learning_rate    | 0.0001   |\n",
            "|    loss             | 0.205    |\n",
            "|    n_updates        | 123      |\n",
            "----------------------------------\n",
            "----------------------------------\n",
            "| rollout/            |          |\n",
            "|    ep_len_mean      | 10.5     |\n",
            "|    ep_rew_mean      | 10.5     |\n",
            "|    exploration_rate | 0.05     |\n",
            "| time/               |          |\n",
            "|    episodes         | 60       |\n",
            "|    fps              | 3829     |\n",
            "|    time_elapsed     | 0        |\n",
            "|    total_timesteps  | 628      |\n",
            "| train/              |          |\n",
            "|    learning_rate    | 0.0001   |\n",
            "|    loss             | 0.22     |\n",
            "|    n_updates        | 131      |\n",
            "----------------------------------\n",
            "----------------------------------\n",
            "| rollout/            |          |\n",
            "|    ep_len_mean      | 10.4     |\n",
            "|    ep_rew_mean      | 10.4     |\n",
            "|    exploration_rate | 0.05     |\n",
            "| time/               |          |\n",
            "|    episodes         | 64       |\n",
            "|    fps              | 3809     |\n",
            "|    time_elapsed     | 0        |\n",
            "|    total_timesteps  | 667      |\n",
            "| train/              |          |\n",
            "|    learning_rate    | 0.0001   |\n",
            "|    loss             | 0.182    |\n",
            "|    n_updates        | 141      |\n",
            "----------------------------------\n",
            "----------------------------------\n",
            "| rollout/            |          |\n",
            "|    ep_len_mean      | 10.4     |\n",
            "|    ep_rew_mean      | 10.4     |\n",
            "|    exploration_rate | 0.05     |\n",
            "| time/               |          |\n",
            "|    episodes         | 68       |\n",
            "|    fps              | 3790     |\n",
            "|    time_elapsed     | 0        |\n",
            "|    total_timesteps  | 704      |\n",
            "| train/              |          |\n",
            "|    learning_rate    | 0.0001   |\n",
            "|    loss             | 0.168    |\n",
            "|    n_updates        | 150      |\n",
            "----------------------------------\n",
            "----------------------------------\n",
            "| rollout/            |          |\n",
            "|    ep_len_mean      | 10.4     |\n",
            "|    ep_rew_mean      | 10.4     |\n",
            "|    exploration_rate | 0.05     |\n",
            "| time/               |          |\n",
            "|    episodes         | 72       |\n",
            "|    fps              | 3784     |\n",
            "|    time_elapsed     | 0        |\n",
            "|    total_timesteps  | 748      |\n",
            "| train/              |          |\n",
            "|    learning_rate    | 0.0001   |\n",
            "|    loss             | 0.128    |\n",
            "|    n_updates        | 161      |\n",
            "----------------------------------\n",
            "----------------------------------\n",
            "| rollout/            |          |\n",
            "|    ep_len_mean      | 10.4     |\n",
            "|    ep_rew_mean      | 10.4     |\n",
            "|    exploration_rate | 0.05     |\n",
            "| time/               |          |\n",
            "|    episodes         | 76       |\n",
            "|    fps              | 3763     |\n",
            "|    time_elapsed     | 0        |\n",
            "|    total_timesteps  | 788      |\n",
            "| train/              |          |\n",
            "|    learning_rate    | 0.0001   |\n",
            "|    loss             | 0.129    |\n",
            "|    n_updates        | 171      |\n",
            "----------------------------------\n",
            "----------------------------------\n",
            "| rollout/            |          |\n",
            "|    ep_len_mean      | 10.3     |\n",
            "|    ep_rew_mean      | 10.3     |\n",
            "|    exploration_rate | 0.05     |\n",
            "| time/               |          |\n",
            "|    episodes         | 80       |\n",
            "|    fps              | 3737     |\n",
            "|    time_elapsed     | 0        |\n",
            "|    total_timesteps  | 825      |\n",
            "| train/              |          |\n",
            "|    learning_rate    | 0.0001   |\n",
            "|    loss             | 0.132    |\n",
            "|    n_updates        | 181      |\n",
            "----------------------------------\n",
            "----------------------------------\n",
            "| rollout/            |          |\n",
            "|    ep_len_mean      | 10.3     |\n",
            "|    ep_rew_mean      | 10.3     |\n",
            "|    exploration_rate | 0.05     |\n",
            "| time/               |          |\n",
            "|    episodes         | 84       |\n",
            "|    fps              | 3723     |\n",
            "|    time_elapsed     | 0        |\n",
            "|    total_timesteps  | 863      |\n",
            "| train/              |          |\n",
            "|    learning_rate    | 0.0001   |\n",
            "|    loss             | 0.0914   |\n",
            "|    n_updates        | 190      |\n",
            "----------------------------------\n",
            "----------------------------------\n",
            "| rollout/            |          |\n",
            "|    ep_len_mean      | 10.3     |\n",
            "|    ep_rew_mean      | 10.3     |\n",
            "|    exploration_rate | 0.05     |\n",
            "| time/               |          |\n",
            "|    episodes         | 88       |\n",
            "|    fps              | 3707     |\n",
            "|    time_elapsed     | 0        |\n",
            "|    total_timesteps  | 905      |\n",
            "| train/              |          |\n",
            "|    learning_rate    | 0.0001   |\n",
            "|    loss             | 0.1      |\n",
            "|    n_updates        | 201      |\n",
            "----------------------------------\n",
            "----------------------------------\n",
            "| rollout/            |          |\n",
            "|    ep_len_mean      | 10.2     |\n",
            "|    ep_rew_mean      | 10.2     |\n",
            "|    exploration_rate | 0.05     |\n",
            "| time/               |          |\n",
            "|    episodes         | 92       |\n",
            "|    fps              | 3696     |\n",
            "|    time_elapsed     | 0        |\n",
            "|    total_timesteps  | 943      |\n",
            "| train/              |          |\n",
            "|    learning_rate    | 0.0001   |\n",
            "|    loss             | 0.0856   |\n",
            "|    n_updates        | 210      |\n",
            "----------------------------------\n",
            "----------------------------------\n",
            "| rollout/            |          |\n",
            "|    ep_len_mean      | 10.2     |\n",
            "|    ep_rew_mean      | 10.2     |\n",
            "|    exploration_rate | 0.05     |\n",
            "| time/               |          |\n",
            "|    episodes         | 96       |\n",
            "|    fps              | 3681     |\n",
            "|    time_elapsed     | 0        |\n",
            "|    total_timesteps  | 981      |\n",
            "| train/              |          |\n",
            "|    learning_rate    | 0.0001   |\n",
            "|    loss             | 0.0499   |\n",
            "|    n_updates        | 220      |\n",
            "----------------------------------\n"
          ]
        }
      ],
      "source": [
        "model = A2C('MlpPolicy', \"CartPole-v1\", verbose=1).learn(1000)"
      ]
    },
    {
      "cell_type": "markdown",
      "metadata": {
        "id": "FrI6f5fWnzp-"
      },
      "source": [
        "## Conclusion\n",
        "\n",
        "In this notebook we have seen:\n",
        "- how to define and train a RL model using stable baselines3, it takes only one line of code ;)\n"
      ]
    }
  ],
  "metadata": {
    "accelerator": "GPU",
    "colab": {
      "include_colab_link": true,
      "provenance": []
    },
    "kernelspec": {
      "display_name": ".venv-sb3",
      "language": "python",
      "name": "python3"
    },
    "language_info": {
      "codemirror_mode": {
        "name": "ipython",
        "version": 3
      },
      "file_extension": ".py",
      "mimetype": "text/x-python",
      "name": "python",
      "nbconvert_exporter": "python",
      "pygments_lexer": "ipython3",
      "version": "3.9.6"
    }
  },
  "nbformat": 4,
  "nbformat_minor": 0
}
